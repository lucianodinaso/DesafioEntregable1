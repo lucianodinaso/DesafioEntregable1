{
 "cells": [
  {
   "cell_type": "markdown",
   "id": "2b9d8ad5-0ba7-4f10-bbc4-963a950c85fa",
   "metadata": {
    "tags": []
   },
   "source": [
    "# Ejemplo Entregable 1\n",
    "\n",
    "Pasos del ejemplo:\n",
    "* Bajar datos de una API en formato JSON\n",
    "* Cargar datos en la tabla de Redshift\n",
    "\n",
    "Esto lo vamos a llevar a cabo usando `requests`, `Spark` y un driver de conexión de `Postgres`\n",
    "\n",
    "![Imagen](./entregable_arquitectura.png)"
   ]
  },
  {
   "cell_type": "markdown",
   "id": "c9ee5997-74e0-4ae9-a586-d36e2b3776be",
   "metadata": {
    "tags": []
   },
   "source": [
    "## 1) Bajar datos de una API en formato JSON\n",
    "\n",
    "Para este ejemplo vamos a usar la API de [Datos Argentina](https://www.datos.gob.ar/)\n",
    "\n",
    "Y nos vamos a traer los datos de:Patentamiento automotor. En miles de unidades.\n",
    "\n",
    "Para probar la API ir a: [API de Series de Tiempo AR: Generador de URLs](https://datosgobar.github.io/series-tiempo-ar-call-generator/)"
   ]
  },
  {
   "cell_type": "code",
   "execution_count": 1,
   "id": "2b8041f0-c750-42c3-8943-515cd0131743",
   "metadata": {
    "tags": []
   },
   "outputs": [],
   "source": [
    "import requests\n",
    "import urllib.parse\n",
    "\n",
    "def get_api_call(ids, **kwargs):\n",
    "    API_BASE_URL = \"https://apis.datos.gob.ar/series/api/\"\n",
    "    kwargs[\"ids\"] = \",\".join(ids)\n",
    "    return \"{}{}?{}\".format(API_BASE_URL, \"series\", urllib.parse.urlencode(kwargs))"
   ]
  },
  {
   "cell_type": "code",
   "execution_count": 2,
   "id": "697c682c-f3f5-4662-8a63-cd33cd34444b",
   "metadata": {
    "tags": []
   },
   "outputs": [
    {
     "name": "stdout",
     "output_type": "stream",
     "text": [
      "https://apis.datos.gob.ar/series/api/series?start_date=2010-01-01&ids=Automotriz_patentamiento_Izd1M1\n"
     ]
    }
   ],
   "source": [
    "#https://apis.datos.gob.ar/series/api/series?ids=Automotriz_patentamiento_Izd1M1&collapse=year&start_date=2010-01-01&end_date=2022-05-31&format=json\n",
    "# Ejemplo: https://apis.datos.gob.ar/series/api/series?ids=75.3_IEC_0_M_26&start_date=2020-01-01\n",
    "api_call = get_api_call([\"Automotriz_patentamiento_Izd1M1\"], start_date=\"2010-01-01\")\n",
    "print(api_call)"
   ]
  },
  {
   "cell_type": "code",
   "execution_count": 3,
   "id": "3b04e992-36f2-4e9b-9a9a-bc417426f700",
   "metadata": {
    "tags": []
   },
   "outputs": [
    {
     "name": "stdout",
     "output_type": "stream",
     "text": [
      "{'data': [['2010-01-01', 801.0], ['2010-02-01', 519.0], ['2010-03-01', 931.0], ['2010-04-01', 898.0], ['2010-05-01', 777.0], ['2010-06-01', 844.0], ['2010-07-01', 810.0], ['2010-08-01', 782.0], ['2010-09-01', 878.0], ['2010-10-01', 834.0], ['2010-11-01', 904.0], ['2010-12-01', 658.0], ['2011-01-01', 1045.0], ['2011-02-01', 988.0], ['2011-03-01', 995.0], ['2011-04-01', 1031.0], ['2011-05-01', 1100.0], ['2011-06-01', 1086.0], ['2011-07-01', 1103.0], ['2011-08-01', 1140.0], ['2011-09-01', 1192.0], ['2011-10-01', 1071.0], ['2011-11-01', 1083.0], ['2011-12-01', 638.0], ['2012-01-01', 1162.0], ['2012-02-01', 811.0], ['2012-03-01', 1230.0], ['2012-04-01', 815.0], ['2012-05-01', 1003.0], ['2012-06-01', 842.0], ['2012-07-01', 1051.0], ['2012-08-01', 1325.0], ['2012-09-01', 929.0], ['2012-10-01', 974.0], ['2012-11-01', 1052.0], ['2012-12-01', 693.0], ['2013-01-01', 1006.0], ['2013-02-01', 851.0], ['2013-03-01', 1155.0], ['2013-04-01', 1017.0], ['2013-05-01', 1159.0], ['2013-06-01', 964.0], ['2013-07-01', 1130.0], ['2013-08-01', 1071.0], ['2013-09-01', 1083.0], ['2013-10-01', 1027.0], ['2013-11-01', 789.0], ['2013-12-01', 669.0], ['2014-01-01', 1002.0], ['2014-02-01', 966.0], ['2014-03-01', 816.0], ['2014-04-01', 770.0], ['2014-05-01', 820.0], ['2014-06-01', 732.0], ['2014-07-01', 795.0], ['2014-08-01', 711.0], ['2014-09-01', 914.0], ['2014-10-01', 1060.0], ['2014-11-01', 1146.0], ['2014-12-01', 1004.0], ['2015-01-01', 863.0], ['2015-02-01', 685.0], ['2015-03-01', 858.0], ['2015-04-01', 954.0], ['2015-05-01', 899.0], ['2015-06-01', 968.0], ['2015-07-01', 975.0], ['2015-08-01', 854.0], ['2015-09-01', 1068.0], ['2015-10-01', 978.0], ['2015-11-01', 847.0], ['2015-12-01', 531.0], ['2016-01-01', 824.0], ['2016-02-01', 730.0], ['2016-03-01', 878.0], ['2016-04-01', 917.0], ['2016-05-01', 831.0], ['2016-06-01', 810.0], ['2016-07-01', 715.0], ['2016-08-01', 863.0], ['2016-09-01', 906.0], ['2016-10-01', 849.0], ['2016-11-01', 924.0], ['2016-12-01', 574.0], ['2017-01-01', 970.0], ['2017-02-01', 875.0], ['2017-03-01', 1085.0], ['2017-04-01', 898.0], ['2017-05-01', 1155.0], ['2017-06-01', 1047.0], ['2017-07-01', 1043.0], ['2017-08-01', 1146.0], ['2017-09-01', 1014.0], ['2017-10-01', 1147.0], ['2017-11-01', 1069.0], ['2017-12-01', 704.0], ['2018-01-01', 1001.0], ['2018-02-01', 958.0], ['2018-03-01', 1052.0], ['2018-04-01', 1062.0]], 'count': 115, 'meta': [{'frequency': 'month', 'start_date': '2010-01-01', 'end_date': '2018-04-01'}, {'catalog': {'title': 'Estadisticas Productivas'}, 'dataset': {'title': 'Indicadores Sectoriales de Automotores', 'description': 'Resumen de los principales indicadores del sector Automotriz.', 'source': 'Ministerio de Producción. Secretaría de la Transformación Productiva. Subsecretaría de Desarrollo y Planeamiento Productivo.', 'issued': '2018-06-12'}, 'distribution': {'title': 'Automotriz: patentamientos de autos de origen argentino, brasileño y del resto del mundo (series)', 'downloadURL': 'http://estadisticas.produccion.gob.ar/app/dataset/6/distribution/6.3/autom-paten-series.csv'}, 'field': {'description': 'Automotriz: patentamientos de autos de origen indefinido', 'id': 'Automotriz_patentamiento_Izd1M1', 'units': 'Unidades', 'representation_mode': 'value', 'representation_mode_units': 'Unidades'}}], 'params': {'start_date': '2010-01-01', 'ids': 'Automotriz_patentamiento_Izd1M1', 'identifiers': [{'id': 'Automotriz_patentamiento_Izd1M1', 'distribution': '6.3', 'dataset': '6'}]}}\n"
     ]
    }
   ],
   "source": [
    "result = requests.get(api_call).json()\n",
    "print(result)"
   ]
  },
  {
   "cell_type": "markdown",
   "id": "7f9d78ac-50eb-4385-80bb-4478be1240d3",
   "metadata": {},
   "source": [
    "## 2) Cargar datos en la tabla de Redshift\n",
    "\n",
    "La tabla debe estar creada en el schema que esté usando. El create table es el siguiente:\n",
    "\n",
    "```SQL\n",
    "create table if not exists luciano_dinaso_coderhouse.patentamiento_automotor (\n",
    "    date_from VARCHAR(10) distkey,\n",
    "    miles_unidades decimal(10,2),\n",
    "    frequency varchar(12)\n",
    ") sortkey(date_from);\n",
    "```"
   ]
  },
  {
   "cell_type": "code",
   "execution_count": 4,
   "id": "c0c4ae6a-6d33-48c5-bc76-78280bc5bb80",
   "metadata": {
    "tags": []
   },
   "outputs": [
    {
     "name": "stdout",
     "output_type": "stream",
     "text": [
      "Collecting psycopg2-binary\n",
      "  Downloading psycopg2_binary-2.9.6-cp310-cp310-manylinux_2_17_x86_64.manylinux2014_x86_64.whl (3.0 MB)\n",
      "\u001b[2K     \u001b[90m━━━━━━━━━━━━━━━━━━━━━━━━━━━━━━━━━━━━━━━━\u001b[0m \u001b[32m3.0/3.0 MB\u001b[0m \u001b[31m5.6 MB/s\u001b[0m eta \u001b[36m0:00:00\u001b[0m:00:01\u001b[0m00:01\u001b[0m\n",
      "\u001b[?25hInstalling collected packages: psycopg2-binary\n",
      "Successfully installed psycopg2-binary-2.9.6\n"
     ]
    }
   ],
   "source": [
    "!pip install psycopg2-binary"
   ]
  },
  {
   "cell_type": "code",
   "execution_count": 5,
   "id": "784bd8a8-1f06-4eed-b011-8c6b04b6f5df",
   "metadata": {
    "tags": []
   },
   "outputs": [],
   "source": [
    "# Crear sesion de Spark\n",
    "import os\n",
    "import psycopg2\n",
    "\n",
    "from pyspark.sql import SparkSession\n",
    "from pyspark.sql.functions import when, lit, col\n",
    "\n",
    "# Postgres and Redshift JDBCs\n",
    "driver_path = \"/home/coder/working_dir/driver_jdbc/postgresql-42.2.27.jre7.jar\"\n",
    "\n",
    "os.environ['PYSPARK_SUBMIT_ARGS'] = f'--driver-class-path {driver_path} --jars {driver_path} pyspark-shell'\n",
    "os.environ['SPARK_CLASSPATH'] = driver_path\n",
    "\n",
    "# Create SparkSession \n",
    "spark = SparkSession.builder \\\n",
    "        .master(\"local\") \\\n",
    "        .appName(\"Conexion entre Pyspark y Redshift\") \\\n",
    "        .config(\"spark.jars\", driver_path) \\\n",
    "        .config(\"spark.executor.extraClassPath\", driver_path) \\\n",
    "        .getOrCreate()"
   ]
  },
  {
   "cell_type": "code",
   "execution_count": 6,
   "id": "f82b7ea8-81ee-4a17-83e5-0b7a85542b6e",
   "metadata": {
    "tags": []
   },
   "outputs": [],
   "source": [
    "env = os.environ"
   ]
  },
  {
   "cell_type": "markdown",
   "id": "6e5cd853-7e96-4ca9-b4e5-38e2d8da9395",
   "metadata": {},
   "source": [
    "Revisar documentación:\n",
    "* [AWS Redshift + Spark documentation](https://docs.aws.amazon.com/emr/latest/ReleaseGuide/emr-spark-redshift.html)\n",
    "* [Spark + Redshift connector](https://github.com/spark-redshift-community/spark-redshift#readme)"
   ]
  },
  {
   "cell_type": "code",
   "execution_count": 7,
   "id": "d6c9313b-f55d-41b6-b0b3-2028781bb352",
   "metadata": {
    "tags": []
   },
   "outputs": [],
   "source": [
    "# Connect to Redshift using psycopg2\n",
    "conn = psycopg2.connect(\n",
    "    host=env['AWS_REDSHIFT_HOST'],\n",
    "    port=env['AWS_REDSHIFT_PORT'],\n",
    "    dbname=env['AWS_REDSHIFT_DBNAME'],\n",
    "    user=env['AWS_REDSHIFT_USER'],\n",
    "    password=env['AWS_REDSHIFT_PASSWORD']\n",
    ")"
   ]
  },
  {
   "cell_type": "code",
   "execution_count": 8,
   "id": "09f4ae99-28b8-4deb-8efe-536a4fc924e9",
   "metadata": {
    "tags": []
   },
   "outputs": [
    {
     "name": "stdout",
     "output_type": "stream",
     "text": [
      "Table created!\n"
     ]
    }
   ],
   "source": [
    "cursor = conn.cursor()\n",
    "cursor.execute(f\"\"\"\n",
    "create table if not exists {env['AWS_REDSHIFT_SCHEMA']}.patentamiento_automotor (\n",
    "    date_from VARCHAR(10) distkey,\n",
    "    miles_unidades decimal(10,2),\n",
    "    frequency varchar(12)\n",
    ") sortkey(date_from);\n",
    "\"\"\")\n",
    "conn.commit()\n",
    "cursor.close()\n",
    "print(\"Table created!\")"
   ]
  },
  {
   "cell_type": "code",
   "execution_count": 9,
   "id": "f4fe5a1d-769a-4e42-975c-2391f27326cb",
   "metadata": {
    "tags": []
   },
   "outputs": [
    {
     "name": "stdout",
     "output_type": "stream",
     "text": [
      "patentamiento_automotor\n"
     ]
    }
   ],
   "source": [
    "cursor = conn.cursor()\n",
    "cursor.execute(f\"\"\"\n",
    "SELECT\n",
    "  distinct tablename\n",
    "FROM\n",
    "  PG_TABLE_DEF\n",
    "WHERE\n",
    "  schemaname = '{env['AWS_REDSHIFT_SCHEMA']}';\n",
    "\"\"\")\n",
    "# resultado = cursor.fetchall()\n",
    "print(\", \".join(map(lambda x: x[0], cursor.fetchall())))\n",
    "cursor.close()"
   ]
  },
  {
   "cell_type": "code",
   "execution_count": 10,
   "id": "5426b03c-0298-4331-a242-9d4c2b55bf5a",
   "metadata": {
    "tags": []
   },
   "outputs": [],
   "source": [
    "# Create the DataFrame with the specified column names\n",
    "df = spark.createDataFrame(result['data'], [\"date_from\", \"miles_unidades\"])"
   ]
  },
  {
   "cell_type": "code",
   "execution_count": 11,
   "id": "9e65938a-dd85-476a-b8d5-44e33227a8e2",
   "metadata": {
    "tags": []
   },
   "outputs": [
    {
     "name": "stdout",
     "output_type": "stream",
     "text": [
      "root\n",
      " |-- date_from: string (nullable = true)\n",
      " |-- miles_unidades: double (nullable = true)\n",
      "\n",
      "+----------+--------------+\n",
      "| date_from|miles_unidades|\n",
      "+----------+--------------+\n",
      "|2010-01-01|         801.0|\n",
      "|2010-02-01|         519.0|\n",
      "|2010-03-01|         931.0|\n",
      "|2010-04-01|         898.0|\n",
      "|2010-05-01|         777.0|\n",
      "|2010-06-01|         844.0|\n",
      "|2010-07-01|         810.0|\n",
      "|2010-08-01|         782.0|\n",
      "|2010-09-01|         878.0|\n",
      "|2010-10-01|         834.0|\n",
      "|2010-11-01|         904.0|\n",
      "|2010-12-01|         658.0|\n",
      "|2011-01-01|        1045.0|\n",
      "|2011-02-01|         988.0|\n",
      "|2011-03-01|         995.0|\n",
      "|2011-04-01|        1031.0|\n",
      "|2011-05-01|        1100.0|\n",
      "|2011-06-01|        1086.0|\n",
      "|2011-07-01|        1103.0|\n",
      "|2011-08-01|        1140.0|\n",
      "+----------+--------------+\n",
      "only showing top 20 rows\n",
      "\n"
     ]
    }
   ],
   "source": [
    "df.printSchema()\n",
    "df.show()"
   ]
  },
  {
   "cell_type": "code",
   "execution_count": 14,
   "id": "6987abc0-1927-466c-aaea-79493449dcb9",
   "metadata": {
    "tags": []
   },
   "outputs": [
    {
     "name": "stdout",
     "output_type": "stream",
     "text": [
      "root\n",
      " |-- date_from: string (nullable = true)\n",
      " |-- miles_unidades: double (nullable = true)\n",
      " |-- frequency: string (nullable = false)\n",
      "\n",
      "+----------+--------------+---------+\n",
      "| date_from|miles_unidades|frequency|\n",
      "+----------+--------------+---------+\n",
      "|2010-01-01|         801.0|  Mensual|\n",
      "|2010-02-01|         519.0|  Mensual|\n",
      "|2010-03-01|         931.0|  Mensual|\n",
      "|2010-04-01|         898.0|  Mensual|\n",
      "|2010-05-01|         777.0|  Mensual|\n",
      "|2010-06-01|         844.0|  Mensual|\n",
      "|2010-07-01|         810.0|  Mensual|\n",
      "|2010-08-01|         782.0|  Mensual|\n",
      "|2010-09-01|         878.0|  Mensual|\n",
      "|2010-10-01|         834.0|  Mensual|\n",
      "|2010-11-01|         904.0|  Mensual|\n",
      "|2010-12-01|         658.0|  Mensual|\n",
      "|2011-01-01|        1045.0|  Mensual|\n",
      "|2011-02-01|         988.0|  Mensual|\n",
      "|2011-03-01|         995.0|  Mensual|\n",
      "|2011-04-01|        1031.0|  Mensual|\n",
      "|2011-05-01|        1100.0|  Mensual|\n",
      "|2011-06-01|        1086.0|  Mensual|\n",
      "|2011-07-01|        1103.0|  Mensual|\n",
      "|2011-08-01|        1140.0|  Mensual|\n",
      "+----------+--------------+---------+\n",
      "only showing top 20 rows\n",
      "\n"
     ]
    }
   ],
   "source": [
    "df_to_write = df.withColumn('frequency', lit('Mensual'))\n",
    "df_to_write.printSchema()\n",
    "df_to_write.show()"
   ]
  },
  {
   "cell_type": "code",
   "execution_count": 15,
   "id": "846c31de-8995-45de-87ff-9f573852e8a4",
   "metadata": {
    "tags": []
   },
   "outputs": [],
   "source": [
    "df_to_write.write \\\n",
    "    .format(\"jdbc\") \\\n",
    "    .option(\"url\", f\"jdbc:postgresql://{env['AWS_REDSHIFT_HOST']}:{env['AWS_REDSHIFT_PORT']}/{env['AWS_REDSHIFT_DBNAME']}\") \\\n",
    "    .option(\"dbtable\", f\"{env['AWS_REDSHIFT_SCHEMA']}.patentamiento_automotor\") \\\n",
    "    .option(\"user\", env['AWS_REDSHIFT_USER']) \\\n",
    "    .option(\"password\", env['AWS_REDSHIFT_PASSWORD']) \\\n",
    "    .option(\"driver\", \"org.postgresql.Driver\") \\\n",
    "    .mode(\"overwrite\") \\\n",
    "    .save()"
   ]
  },
  {
   "cell_type": "code",
   "execution_count": 16,
   "id": "e42cca47-336f-4870-a528-b1c56d7c64b2",
   "metadata": {
    "tags": []
   },
   "outputs": [],
   "source": [
    "# Query Redshift using Spark SQL\n",
    "query = f\"select * from {env['AWS_REDSHIFT_SCHEMA']}.patentamiento_automotor\"\n",
    "data = spark.read \\\n",
    "    .format(\"jdbc\") \\\n",
    "    .option(\"url\", f\"jdbc:postgresql://{env['AWS_REDSHIFT_HOST']}:{env['AWS_REDSHIFT_PORT']}/{env['AWS_REDSHIFT_DBNAME']}\") \\\n",
    "    .option(\"dbtable\", f\"({query}) as tmp_table\") \\\n",
    "    .option(\"user\", env['AWS_REDSHIFT_USER']) \\\n",
    "    .option(\"password\", env['AWS_REDSHIFT_PASSWORD']) \\\n",
    "    .option(\"driver\", \"org.postgresql.Driver\") \\\n",
    "    .load()"
   ]
  },
  {
   "cell_type": "code",
   "execution_count": 19,
   "id": "f23e27db-346e-4905-8848-8179409a9139",
   "metadata": {
    "tags": []
   },
   "outputs": [
    {
     "name": "stdout",
     "output_type": "stream",
     "text": [
      "root\n",
      " |-- date_from: string (nullable = true)\n",
      " |-- miles_unidades: double (nullable = true)\n",
      " |-- frequency: string (nullable = true)\n",
      "\n",
      "+----------+--------------+---------+\n",
      "| date_from|miles_unidades|frequency|\n",
      "+----------+--------------+---------+\n",
      "|2010-01-01|         801.0|  Mensual|\n",
      "|2010-02-01|         519.0|  Mensual|\n",
      "|2010-03-01|         931.0|  Mensual|\n",
      "|2010-04-01|         898.0|  Mensual|\n",
      "|2010-05-01|         777.0|  Mensual|\n",
      "|2010-06-01|         844.0|  Mensual|\n",
      "|2010-07-01|         810.0|  Mensual|\n",
      "|2010-08-01|         782.0|  Mensual|\n",
      "|2010-09-01|         878.0|  Mensual|\n",
      "|2010-10-01|         834.0|  Mensual|\n",
      "|2010-11-01|         904.0|  Mensual|\n",
      "|2010-12-01|         658.0|  Mensual|\n",
      "|2011-01-01|        1045.0|  Mensual|\n",
      "|2011-02-01|         988.0|  Mensual|\n",
      "|2011-03-01|         995.0|  Mensual|\n",
      "|2011-04-01|        1031.0|  Mensual|\n",
      "|2011-05-01|        1100.0|  Mensual|\n",
      "|2011-06-01|        1086.0|  Mensual|\n",
      "|2011-07-01|        1103.0|  Mensual|\n",
      "|2011-08-01|        1140.0|  Mensual|\n",
      "+----------+--------------+---------+\n",
      "only showing top 20 rows\n",
      "\n"
     ]
    }
   ],
   "source": [
    "data.printSchema()\n",
    "data.show()"
   ]
  },
  {
   "cell_type": "code",
   "execution_count": 18,
   "id": "311a75ef-818b-4b8d-9f48-43e62ca2f806",
   "metadata": {
    "tags": []
   },
   "outputs": [],
   "source": [
    "conn.close()"
   ]
  },
  {
   "cell_type": "code",
   "execution_count": null,
   "id": "37e0b31e-28c2-4135-9f37-6375e20f61ce",
   "metadata": {},
   "outputs": [],
   "source": []
  }
 ],
 "metadata": {
  "kernelspec": {
   "display_name": "Python 3 (ipykernel)",
   "language": "python",
   "name": "python3"
  },
  "language_info": {
   "codemirror_mode": {
    "name": "ipython",
    "version": 3
   },
   "file_extension": ".py",
   "mimetype": "text/x-python",
   "name": "python",
   "nbconvert_exporter": "python",
   "pygments_lexer": "ipython3",
   "version": "3.10.10"
  }
 },
 "nbformat": 4,
 "nbformat_minor": 5
}
